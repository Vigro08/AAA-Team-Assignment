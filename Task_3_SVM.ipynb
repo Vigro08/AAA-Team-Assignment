{
 "cells": [
  {
   "cell_type": "markdown",
   "id": "d82faae3",
   "metadata": {},
   "source": [
    "First SVM model: linear SVC\n",
    "\n",
    "For testing purposes: to reduce training time, we only test the initial model on a subset of the original data"
   ]
  },
  {
   "cell_type": "code",
   "execution_count": 14,
   "id": "afe408e5",
   "metadata": {},
   "outputs": [],
   "source": [
    "import pandas as pd\n",
    "import numpy as np\n",
    "from sklearn.model_selection import train_test_split, GridSearchCV\n",
    "from sklearn.svm import SVR\n",
    "from sklearn.metrics import mean_squared_error, r2_score\n",
    "from sklearn.preprocessing import StandardScaler, OneHotEncoder\n",
    "from sklearn.compose import ColumnTransformer\n",
    "from sklearn.pipeline import Pipeline\n",
    "from sklearn.linear_model import LinearRegression"
   ]
  },
  {
   "cell_type": "code",
   "execution_count": null,
   "id": "0a39b59f",
   "metadata": {},
   "outputs": [],
   "source": [
    "df_test_no_null = pd.read_csv(\"testing_no_null.csv\")\n",
    "df_test = df_test_no_null.iloc[1:1000]"
   ]
  },
  {
   "cell_type": "code",
   "execution_count": 9,
   "id": "23913544",
   "metadata": {},
   "outputs": [
    {
     "data": {
      "text/plain": [
       "Index(['Taxi ID', 'Trip Start Timestamp', 'Trip End Timestamp', 'Trip Seconds',\n",
       "       'Trip Miles', 'Pickup Census Tract', 'Dropoff Census Tract',\n",
       "       'Pickup Community Area', 'Dropoff Community Area',\n",
       "       'Pickup Centroid Latitude', 'Pickup Centroid Longitude',\n",
       "       'Pickup Centroid Location', 'Dropoff Centroid Latitude',\n",
       "       'Dropoff Centroid Longitude', 'Dropoff Centroid  Location'],\n",
       "      dtype='object')"
      ]
     },
     "execution_count": 9,
     "metadata": {},
     "output_type": "execute_result"
    }
   ],
   "source": [
    "df_test.columns"
   ]
  },
  {
   "cell_type": "code",
   "execution_count": 20,
   "id": "937a6aa1",
   "metadata": {},
   "outputs": [
    {
     "name": "stdout",
     "output_type": "stream",
     "text": [
      "RMSE: 9.478178825047339\n"
     ]
    },
    {
     "name": "stderr",
     "output_type": "stream",
     "text": [
      "/var/folders/mx/mgs457fj45n14v_glyg8_qwc0000gn/T/ipykernel_67465/1825764652.py:17: FutureWarning: The default of observed=False is deprecated and will be changed to True in a future version of pandas. Pass observed=False to retain current behavior or observed=True to adopt the future default and silence this warning.\n",
      "  agg_df = df.groupby([\"spatial_unit\", \"time_bucket\"]).size().reset_index(name=\"demand\")\n"
     ]
    }
   ],
   "source": [
    "df_test[\"Trip Start Timestamp\"] = pd.to_datetime(df_test[\"Trip Start Timestamp\"], errors=\"coerce\")\n",
    "\n",
    "# Create time buckets\n",
    "df_test[\"hour\"] = df_test[\"Trip Start Timestamp\"].dt.hour\n",
    "df_test[\"time_bucket\"] = pd.cut(\n",
    "    df_test[\"hour\"],\n",
    "    bins=[0, 8, 12, 16, 20, 24],\n",
    "    labels=[\"0-8\", \"8-12\", \"12-16\", \"16-20\", \"20-24\"],\n",
    "    right=False\n",
    ")\n",
    "\n",
    "# Rename spatial unit\n",
    "df = df_test.rename(columns={\"Pickup Census Tract\": \"spatial_unit\"})\n",
    "df = df.dropna(subset=[\"time_bucket\"])  # remove rows with missing bucket\n",
    "\n",
    "# ⬇️ Aggregate demand by spatial unit and time bucket\n",
    "agg_df = df.groupby([\"spatial_unit\", \"time_bucket\"]).size().reset_index(name=\"demand\")\n",
    "\n",
    "# Rename for model\n",
    "agg_df.rename(columns={\"spatial_unit\": \"hex_id\"}, inplace=True)  # pretend census tract = hex_id\n",
    "X = agg_df[[\"hex_id\", \"time_bucket\"]]\n",
    "y = agg_df[\"demand\"]\n",
    "\n",
    "# Preprocessing pipeline\n",
    "preprocessor = ColumnTransformer(transformers=[\n",
    "    (\"cat\", OneHotEncoder(handle_unknown=\"ignore\"), [\"hex_id\", \"time_bucket\"])\n",
    "])\n",
    "\n",
    "pipeline = Pipeline(steps=[\n",
    "    (\"preprocessor\", preprocessor),\n",
    "    (\"scaler\", StandardScaler(with_mean=False)),\n",
    "    (\"svm\", SVR(kernel=\"linear\"))\n",
    "])\n",
    "\n",
    "# Train-test split\n",
    "X_train, X_test, y_train, y_test = train_test_split(X, y, test_size=0.2, random_state=42)\n",
    "\n",
    "# Train and evaluate\n",
    "pipeline.fit(X_train, y_train)\n",
    "y_pred = pipeline.predict(X_test)\n",
    "\n",
    "# print(\"R^2 Score:\", r2_score(y_test, y_pred))\n",
    "print(\"RMSE:\", np.sqrt(mean_squared_error(y_test, y_pred)))\n"
   ]
  },
  {
   "cell_type": "code",
   "execution_count": null,
   "id": "3ab2a091",
   "metadata": {},
   "outputs": [],
   "source": []
  }
 ],
 "metadata": {
  "kernelspec": {
   "display_name": ".venv",
   "language": "python",
   "name": "python3"
  },
  "language_info": {
   "codemirror_mode": {
    "name": "ipython",
    "version": 3
   },
   "file_extension": ".py",
   "mimetype": "text/x-python",
   "name": "python",
   "nbconvert_exporter": "python",
   "pygments_lexer": "ipython3",
   "version": "3.9.5"
  }
 },
 "nbformat": 4,
 "nbformat_minor": 5
}
