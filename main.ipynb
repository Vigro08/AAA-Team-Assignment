{
 "cells": [
  {
   "cell_type": "code",
   "execution_count": 44,
   "metadata": {},
   "outputs": [
    {
     "name": "stdout",
     "output_type": "stream",
     "text": [
      "                                    Trip ID   \n",
      "0  0000184e7cd53cee95af32eba49c44e4d20adcd8  \\\n",
      "1  000072ee076c9038868e239ca54185eb43959db0   \n",
      "2  000074019d598c2b1d6e77fbae79e40b0461a2fc   \n",
      "3  00007572c5f92e2ff067e6f838a5ad74e83665d3   \n",
      "4  00007c3e7546e2c7d15168586943a9c22c3856cf   \n",
      "\n",
      "                                             Taxi ID    Trip Start Timestamp   \n",
      "0  f538e6b729d1aaad4230e9dcd9dc2fd9a168826ddadbd6...  01/19/2024 05:00:00 PM  \\\n",
      "1  e51e2c30caec952b40b8329a68b498e18ce8a1f40fa75c...  01/28/2024 02:30:00 PM   \n",
      "2  aeb280ef3be3e27e081eb6e76027615b0d40925b84d3eb...  01/05/2024 09:00:00 AM   \n",
      "3  7d21c2ca227db8f27dda96612bfe5520ab408fa9a462c8...  01/22/2024 08:45:00 AM   \n",
      "4  8ef1056519939d511d24008e394f83e925d2539d668a00...  01/18/2024 07:15:00 PM   \n",
      "\n",
      "       Trip End Timestamp  Trip Seconds  Trip Miles  Pickup Census Tract   \n",
      "0  01/19/2024 06:00:00 PM        4051.0       17.12         1.703198e+10  \\\n",
      "1  01/28/2024 03:00:00 PM        1749.0       12.70                  NaN   \n",
      "2  01/05/2024 09:00:00 AM         517.0        3.39                  NaN   \n",
      "3  01/22/2024 09:30:00 AM        2050.0       15.06                  NaN   \n",
      "4  01/18/2024 07:30:00 PM        1004.0        1.18         1.703184e+10   \n",
      "\n",
      "   Dropoff Census Tract  Pickup Community Area  Dropoff Community Area  ...   \n",
      "0          1.703132e+10                   76.0                    32.0  ...  \\\n",
      "1                   NaN                    6.0                     NaN  ...   \n",
      "2                   NaN                    6.0                     8.0  ...   \n",
      "3                   NaN                   76.0                     NaN  ...   \n",
      "4          1.703184e+10                   32.0                    32.0  ...   \n",
      "\n",
      "   Extras  Trip Total  Payment Type                       Company   \n",
      "0     4.0       60.00   Credit Card                     Flash Cab  \\\n",
      "1     0.0       33.75          Cash                     Flash Cab   \n",
      "2     1.0       14.69        Mobile  Taxicab Insurance Agency Llc   \n",
      "3     5.5       56.56   Credit Card                    Globe Taxi   \n",
      "4     0.0       19.66        Mobile                   5 Star Taxi   \n",
      "\n",
      "   Pickup Centroid Latitude Pickup Centroid Longitude   \n",
      "0                 41.979071                -87.903040  \\\n",
      "1                 41.944227                -87.655998   \n",
      "2                 41.944227                -87.655998   \n",
      "3                 41.980264                -87.913625   \n",
      "4                 41.880994                -87.632746   \n",
      "\n",
      "               Pickup Centroid Location  Dropoff Centroid Latitude   \n",
      "0  POINT (-87.9030396611 41.9790708201)                  41.884987  \\\n",
      "1  POINT (-87.6559981815 41.9442266014)                        NaN   \n",
      "2  POINT (-87.6559981815 41.9442266014)                  41.899602   \n",
      "3   POINT (-87.913624596 41.9802643146)                        NaN   \n",
      "4  POINT (-87.6327464887 41.8809944707)                  41.880994   \n",
      "\n",
      "   Dropoff Centroid Longitude            Dropoff Centroid  Location  \n",
      "0                  -87.620993  POINT (-87.6209929134 41.8849871918)  \n",
      "1                         NaN                                   NaN  \n",
      "2                  -87.633308   POINT (-87.6333080367 41.899602111)  \n",
      "3                         NaN                                   NaN  \n",
      "4                  -87.632746  POINT (-87.6327464887 41.8809944707)  \n",
      "\n",
      "[5 rows x 23 columns]\n"
     ]
    }
   ],
   "source": [
    "import pandas as pd \n",
    "import geopandas as gpd\n",
    "df = pd.read_csv('Taxi_Trips__2024-__20250505.csv')\n",
    "\n",
    "print(df.head())"
   ]
  },
  {
   "cell_type": "code",
   "execution_count": 45,
   "metadata": {},
   "outputs": [
    {
     "name": "stdout",
     "output_type": "stream",
     "text": [
      "0\n"
     ]
    }
   ],
   "source": [
    "#check for duplicate rows\n",
    "print(df['Trip ID'].duplicated().sum())\n",
    "#directly discard not needed columns\n",
    "df = df.drop(columns=['Trip ID', 'Fare', 'Tips', 'Tolls', 'Extras', 'Trip Total', 'Payment Type', 'Company'])"
   ]
  },
  {
   "cell_type": "code",
   "execution_count": 46,
   "metadata": {},
   "outputs": [
    {
     "name": "stdout",
     "output_type": "stream",
     "text": [
      "Taxi ID                             3\n",
      "Trip Start Timestamp                0\n",
      "Trip End Timestamp                 66\n",
      "Trip Seconds                     1541\n",
      "Trip Miles                         69\n",
      "Pickup Census Tract           4524944\n",
      "Dropoff Census Tract          4636162\n",
      "Pickup Community Area          226777\n",
      "Dropoff Community Area         742953\n",
      "Pickup Centroid Latitude       222468\n",
      "Pickup Centroid Longitude      222468\n",
      "Pickup Centroid Location       222468\n",
      "Dropoff Centroid Latitude      697653\n",
      "Dropoff Centroid Longitude     697653\n",
      "Dropoff Centroid  Location     697653\n",
      "dtype: int64\n"
     ]
    }
   ],
   "source": [
    "print(df.isnull().sum())"
   ]
  },
  {
   "cell_type": "markdown",
   "metadata": {},
   "source": [
    "Creating geojson from census tract dataset and then enriching dataset with coordinates/census tracts"
   ]
  },
  {
   "cell_type": "code",
   "execution_count": 47,
   "metadata": {},
   "outputs": [
    {
     "name": "stderr",
     "output_type": "stream",
     "text": [
      "C:\\Users\\Besitzer\\AppData\\Local\\Temp\\ipykernel_2064\\2052795453.py:3: UserWarning: Geometry is in a geographic CRS. Results from 'centroid' are likely incorrect. Use 'GeoSeries.to_crs()' to re-project geometries to a projected CRS before this operation.\n",
      "\n",
      "  tract_centroids = (tracts.set_index(\"GEOID\").geometry.centroid)\n"
     ]
    },
    {
     "name": "stdout",
     "output_type": "stream",
     "text": [
      "Taxi ID                            3\n",
      "Trip Start Timestamp               0\n",
      "Trip End Timestamp                66\n",
      "Trip Seconds                    1541\n",
      "Trip Miles                        69\n",
      "Pickup Census Tract           414554\n",
      "Dropoff Census Tract          915663\n",
      "Pickup Community Area         226777\n",
      "Dropoff Community Area        742953\n",
      "Pickup Centroid Latitude      222468\n",
      "Pickup Centroid Longitude     222468\n",
      "Pickup Centroid Location      222468\n",
      "Dropoff Centroid Latitude     697653\n",
      "Dropoff Centroid Longitude    697653\n",
      "Dropoff Centroid  Location    697653\n",
      "dtype: int64\n"
     ]
    }
   ],
   "source": [
    "tracts  = gpd.read_file(\"tl_2024_17_tract.geojson\").to_crs(4326)\n",
    "\n",
    "tract_centroids = (tracts.set_index(\"GEOID\").geometry.centroid)\n",
    "\n",
    "# checking for rows with coordinates and without tracts, to infer tracts\n",
    "pickup_missing_tract = (df[\"Pickup Census Tract\"].isna()\n",
    "                 & df[\"Pickup Centroid Latitude\"].notna()\n",
    "                 & df[\"Pickup Centroid Longitude\"].notna()\n",
    ")\n",
    "\n",
    "\n",
    "dropoff_missing_tract = (df[\"Dropoff Census Tract\"].isna()\n",
    "                 & df[\"Dropoff Centroid Latitude\"].notna()\n",
    "                 & df[\"Dropoff Centroid Longitude\"].notna()\n",
    ")\n",
    "\n",
    "if pickup_missing_tract.any():\n",
    "    pickup_points = gpd.GeoDataFrame(\n",
    "        geometry=gpd.points_from_xy(\n",
    "            df.loc[pickup_missing_tract, \"Pickup Centroid Longitude\"],\n",
    "            df.loc[pickup_missing_tract, \"Pickup Centroid Latitude\"],\n",
    "            crs=4326\n",
    "        ),\n",
    "        index=df.index[pickup_missing_tract]\n",
    "    )\n",
    "\n",
    "if dropoff_missing_tract.any():\n",
    "    dropoff_points = gpd.GeoDataFrame(\n",
    "        geometry=gpd.points_from_xy(\n",
    "            df.loc[dropoff_missing_tract, \"Dropoff Centroid Longitude\"],\n",
    "            df.loc[dropoff_missing_tract, \"Dropoff Centroid Latitude\"],\n",
    "            crs=4326\n",
    "        ),\n",
    "        index=df.index[dropoff_missing_tract]\n",
    "    )\n",
    "\n",
    "\n",
    "pickup_joined = gpd.sjoin(pickup_points, tracts[[\"GEOID\", \"geometry\"]], how=\"left\", predicate=\"within\")\n",
    "df.loc[pickup_joined.index, \"Pickup Census Tract\"] = pickup_joined[\"GEOID\"].values\n",
    "\n",
    "dropoff_joined = gpd.sjoin(dropoff_points, tracts[[\"GEOID\", \"geometry\"]], how=\"left\", predicate=\"within\")\n",
    "df.loc[dropoff_joined.index, \"Dropoff Census Tract\"] = dropoff_joined[\"GEOID\"].values\n",
    "\n",
    "#checking for any rows with tracts and without coordinates and setting coordinates to center point of tract\n",
    "\n",
    "pickup_missing_coords = (\n",
    "    df[\"Pickup Census Tract\"].notna()\n",
    "    & df[\"Pickup Centroid Latitude\"].isna()\n",
    "    & df[\"Pickup Centroid Longitude\"].isna()\n",
    ")\n",
    "\n",
    "dropoff_missing_coords = (\n",
    "    df[\"Dropoff Census Tract\"].notna()\n",
    "    & df[\"Dropoff Centroid Latitude\"].isna()\n",
    "    & df[\"Dropoff Centroid Longitude\"].isna()\n",
    ")\n",
    "\n",
    "if pickup_missing_coords.any():\n",
    "    cent = tract_centroids.reindex(df.loc[pickup_missing_coords, \"Pickup Census Tract\"].astype(str))\n",
    "    df.loc[pickup_missing_coords, \"Pickup Centroid Latitude\"] = cent.y.values\n",
    "    df.loc[pickup_missing_coords, \"Pickup Centroid Longitude\"] = cent.x.values\n",
    "\n",
    "if dropoff_missing_coords.any():\n",
    "    cent = tract_centroids.reindex(df.loc[dropoff_missing_coords, \"Dropoff Census Tract\"].astype(str))\n",
    "    df.loc[dropoff_missing_coords, \"Dropoff Centroid Latitude\"] = cent.y.values\n",
    "    df.loc[dropoff_missing_coords, \"Dropoff Centroid Longitude\"] = cent.x.values\n",
    "\n",
    "\n",
    "print(df.isnull().sum())\n"
   ]
  },
  {
   "cell_type": "code",
   "execution_count": 48,
   "metadata": {},
   "outputs": [
    {
     "name": "stdout",
     "output_type": "stream",
     "text": [
      "Taxi ID                       0\n",
      "Trip Start Timestamp          0\n",
      "Trip End Timestamp            0\n",
      "Trip Seconds                  0\n",
      "Trip Miles                    0\n",
      "Pickup Census Tract           0\n",
      "Dropoff Census Tract          0\n",
      "Pickup Community Area         0\n",
      "Dropoff Community Area        0\n",
      "Pickup Centroid Latitude      0\n",
      "Pickup Centroid Longitude     0\n",
      "Pickup Centroid Location      0\n",
      "Dropoff Centroid Latitude     0\n",
      "Dropoff Centroid Longitude    0\n",
      "Dropoff Centroid  Location    0\n",
      "dtype: int64\n"
     ]
    }
   ],
   "source": [
    "df = df.dropna(subset=['Taxi ID', 'Trip End Timestamp', 'Trip Seconds', 'Trip Miles', 'Pickup Census Tract', 'Dropoff Census Tract', 'Pickup Community Area', 'Dropoff Community Area', 'Dropoff Census Tract', 'Pickup Centroid Latitude', 'Pickup Centroid Longitude', 'Pickup Centroid Location', 'Dropoff Centroid Latitude', 'Dropoff Centroid Longitude', 'Dropoff Centroid  Location'])\n",
    "print(df.isnull().sum())"
   ]
  },
  {
   "cell_type": "code",
   "execution_count": 49,
   "metadata": {},
   "outputs": [
    {
     "name": "stdout",
     "output_type": "stream",
     "text": [
      "Taxi ID                        object\n",
      "Trip Start Timestamp           object\n",
      "Trip End Timestamp             object\n",
      "Trip Seconds                  float64\n",
      "Trip Miles                    float64\n",
      "Pickup Census Tract            object\n",
      "Dropoff Census Tract           object\n",
      "Pickup Community Area         float64\n",
      "Dropoff Community Area        float64\n",
      "Pickup Centroid Latitude      float64\n",
      "Pickup Centroid Longitude     float64\n",
      "Pickup Centroid Location       object\n",
      "Dropoff Centroid Latitude     float64\n",
      "Dropoff Centroid Longitude    float64\n",
      "Dropoff Centroid  Location     object\n",
      "dtype: object\n"
     ]
    }
   ],
   "source": [
    "print(df.dtypes)"
   ]
  },
  {
   "cell_type": "code",
   "execution_count": 50,
   "metadata": {},
   "outputs": [
    {
     "name": "stdout",
     "output_type": "stream",
     "text": [
      "Trip Seconds: True\n",
      "Trip Miles: False\n",
      "Pickup Community Area: True\n",
      "Dropoff Community Area: True\n",
      "Pickup Centroid Latitude: False\n",
      "Pickup Centroid Longitude: False\n",
      "Dropoff Centroid Latitude: False\n",
      "Dropoff Centroid Longitude: False\n"
     ]
    }
   ],
   "source": [
    "# Trip Seconds\n",
    "df_1 = df['Trip Seconds'].dropna()\n",
    "print(\"Trip Seconds:\", (df_1 % 1 == 0).all())\n",
    "\n",
    "# Trip Miles\n",
    "df_2 = df['Trip Miles'].dropna()\n",
    "print(\"Trip Miles:\", (df_2 % 1 == 0).all())\n",
    "\n",
    "# Pickup Community Area\n",
    "df_5 = df['Pickup Community Area'].dropna()\n",
    "print(\"Pickup Community Area:\", (df_5 % 1 == 0).all())\n",
    "\n",
    "# Dropoff Community Area\n",
    "df_6 = df['Dropoff Community Area'].dropna()\n",
    "print(\"Dropoff Community Area:\", (df_6 % 1 == 0).all())\n",
    "\n",
    "# Pickup Centroid Latitude\n",
    "df_7 = df['Pickup Centroid Latitude'].dropna()\n",
    "print(\"Pickup Centroid Latitude:\", (df_7 % 1 == 0).all())\n",
    "\n",
    "# Pickup Centroid Longitude\n",
    "df_8 = df['Pickup Centroid Longitude'].dropna()\n",
    "print(\"Pickup Centroid Longitude:\", (df_8 % 1 == 0).all())\n",
    "\n",
    "# Dropoff Centroid Latitude\n",
    "df_9 = df['Dropoff Centroid Latitude'].dropna()\n",
    "print(\"Dropoff Centroid Latitude:\", (df_9 % 1 == 0).all())\n",
    "\n",
    "# Dropoff Centroid Longitude\n",
    "df_10 = df['Dropoff Centroid Longitude'].dropna()\n",
    "print(\"Dropoff Centroid Longitude:\", (df_10 % 1 == 0).all())"
   ]
  },
  {
   "cell_type": "code",
   "execution_count": 51,
   "metadata": {},
   "outputs": [
    {
     "name": "stdout",
     "output_type": "stream",
     "text": [
      "Taxi ID                        object\n",
      "Trip Start Timestamp           object\n",
      "Trip End Timestamp             object\n",
      "Trip Seconds                    int32\n",
      "Trip Miles                    float64\n",
      "Pickup Census Tract            object\n",
      "Dropoff Census Tract           object\n",
      "Pickup Community Area           int64\n",
      "Dropoff Community Area          int64\n",
      "Pickup Centroid Latitude      float64\n",
      "Pickup Centroid Longitude     float64\n",
      "Pickup Centroid Location       object\n",
      "Dropoff Centroid Latitude     float64\n",
      "Dropoff Centroid Longitude    float64\n",
      "Dropoff Centroid  Location     object\n",
      "dtype: object\n"
     ]
    }
   ],
   "source": [
    "df['Trip Seconds'] = df['Trip Seconds'].fillna(-1).astype('int32')\n",
    "df['Pickup Community Area'] = df['Pickup Community Area'].fillna(0).astype('int64')\n",
    "df['Dropoff Community Area'] = df['Dropoff Community Area'].fillna(0).astype('int64')\n",
    "print(df.dtypes)"
   ]
  },
  {
   "cell_type": "code",
   "execution_count": 52,
   "metadata": {},
   "outputs": [
    {
     "name": "stderr",
     "output_type": "stream",
     "text": [
      "C:\\Users\\Besitzer\\AppData\\Local\\Temp\\ipykernel_2064\\3409860364.py:1: UserWarning: Could not infer format, so each element will be parsed individually, falling back to `dateutil`. To ensure parsing is consistent and as-expected, please specify a format.\n",
      "  df['Trip Start Timestamp'] = pd.to_datetime(df['Trip Start Timestamp'], errors='coerce')\n",
      "C:\\Users\\Besitzer\\AppData\\Local\\Temp\\ipykernel_2064\\3409860364.py:2: UserWarning: Could not infer format, so each element will be parsed individually, falling back to `dateutil`. To ensure parsing is consistent and as-expected, please specify a format.\n",
      "  df['Trip End Timestamp'] = pd.to_datetime(df['Trip End Timestamp'], errors='coerce')\n"
     ]
    },
    {
     "name": "stdout",
     "output_type": "stream",
     "text": [
      "                                                   Taxi ID   \n",
      "2        aeb280ef3be3e27e081eb6e76027615b0d40925b84d3eb...  \\\n",
      "5        833e49f9757b594a8a6765b93d1f7d8ad483e61c3a89d1...   \n",
      "12       8307cf9433f0293eee99c6944aeab484521d9cd9b1fce5...   \n",
      "18       c531f081cad817a366cbae2254ce7a3bb370394b3b0f13...   \n",
      "37       2780ead18beaa862cc67315ddabd9d1acaadcd6da82eba...   \n",
      "...                                                    ...   \n",
      "7917829  d511072131b602026bdb9faa5491d15c3af8d62dc00659...   \n",
      "7917832  82a44a86e90ff3ed8e6e8b06bce2c86826f6a6500c2cfe...   \n",
      "7917833  9475d35df519612aec86dbbfcb872633159f538fe7d90a...   \n",
      "7917836  e2c35dff8bc754fc2b8e2b41774af45912aedd1d47bfa4...   \n",
      "7917842  8cba51d644d2a96d874d93a5b0eb9cf26512383c2fdc5d...   \n",
      "\n",
      "        Trip Start Timestamp  Trip End Timestamp  Trip Seconds  Trip Miles   \n",
      "2        2024-01-05 09:00:00 2024-01-05 09:00:00           517        3.39  \\\n",
      "5        2024-01-09 17:00:00 2024-01-09 17:00:00            12        0.18   \n",
      "12       2024-01-27 15:30:00 2024-01-27 15:30:00            68        0.00   \n",
      "18       2024-01-13 03:15:00 2024-01-13 03:15:00           184        0.00   \n",
      "37       2024-01-17 08:30:00 2024-01-17 08:30:00           520        1.03   \n",
      "...                      ...                 ...           ...         ...   \n",
      "7917829  2025-02-27 23:15:00 2025-02-27 23:15:00             0        0.00   \n",
      "7917832  2025-02-27 11:45:00 2025-02-27 11:45:00           498        1.19   \n",
      "7917833  2025-02-27 11:45:00 2025-02-27 11:45:00             3        0.00   \n",
      "7917836  2025-02-27 12:30:00 2025-02-27 12:30:00             8        0.00   \n",
      "7917842  2025-02-27 07:00:00 2025-02-27 07:00:00           294        0.53   \n",
      "\n",
      "        Pickup Census Tract Dropoff Census Tract  Pickup Community Area   \n",
      "2               17031062200          17031081000                      6  \\\n",
      "5               17031830700          17031062200                      3   \n",
      "12            17031980000.0        17031980000.0                     76   \n",
      "18              17031081000          17031081000                      8   \n",
      "37            17031081800.0        17031081401.0                      8   \n",
      "...                     ...                  ...                    ...   \n",
      "7917829       17031081700.0        17031081700.0                      8   \n",
      "7917832         17031320400          17031242200                     32   \n",
      "7917833       17031081401.0        17031081401.0                      8   \n",
      "7917836         17031071100          17031071100                      7   \n",
      "7917842       17031280100.0        17031839100.0                     28   \n",
      "\n",
      "         Dropoff Community Area  Pickup Centroid Latitude   \n",
      "2                             8                 41.944227  \\\n",
      "5                             6                 41.965812   \n",
      "12                           76                 41.979071   \n",
      "18                            8                 41.899602   \n",
      "37                            8                 41.893216   \n",
      "...                         ...                       ...   \n",
      "7917829                       8                 41.892042   \n",
      "7917832                      24                 41.878866   \n",
      "7917833                       8                 41.895033   \n",
      "7917836                       7                 41.922686   \n",
      "7917842                      32                 41.885300   \n",
      "\n",
      "         Pickup Centroid Longitude              Pickup Centroid Location   \n",
      "2                       -87.655998  POINT (-87.6559981815 41.9442266014)  \\\n",
      "5                       -87.655879    POINT (-87.6558787862 41.96581197)   \n",
      "12                      -87.903040  POINT (-87.9030396611 41.9790708201)   \n",
      "18                      -87.633308   POINT (-87.6333080367 41.899602111)   \n",
      "37                      -87.637844  POINT (-87.6378442095 41.8932163595)   \n",
      "...                            ...                                   ...   \n",
      "7917829                 -87.631864  POINT (-87.6318639497 41.8920421365)   \n",
      "7917832                 -87.625192  POINT (-87.6251921424 41.8788655841)   \n",
      "7917833                 -87.619711  POINT (-87.6197106717 41.8950334495)   \n",
      "7917836                 -87.649489  POINT (-87.6494887289 41.9226862843)   \n",
      "7917842                 -87.642808  POINT (-87.6428084655 41.8853000224)   \n",
      "\n",
      "         Dropoff Centroid Latitude  Dropoff Centroid Longitude   \n",
      "2                        41.899602                  -87.633308  \\\n",
      "5                        41.944227                  -87.655998   \n",
      "12                       41.979071                  -87.903040   \n",
      "18                       41.899602                  -87.633308   \n",
      "37                       41.895033                  -87.619711   \n",
      "...                            ...                         ...   \n",
      "7917829                  41.892042                  -87.631864   \n",
      "7917832                  41.901207                  -87.676356   \n",
      "7917833                  41.895033                  -87.619711   \n",
      "7917836                  41.922686                  -87.649489   \n",
      "7917842                  41.880994                  -87.632746   \n",
      "\n",
      "                   Dropoff Centroid  Location  \n",
      "2         POINT (-87.6333080367 41.899602111)  \n",
      "5        POINT (-87.6559981815 41.9442266014)  \n",
      "12       POINT (-87.9030396611 41.9790708201)  \n",
      "18        POINT (-87.6333080367 41.899602111)  \n",
      "37       POINT (-87.6197106717 41.8950334495)  \n",
      "...                                       ...  \n",
      "7917829  POINT (-87.6318639497 41.8920421365)  \n",
      "7917832  POINT (-87.6763559892 41.9012069941)  \n",
      "7917833  POINT (-87.6197106717 41.8950334495)  \n",
      "7917836  POINT (-87.6494887289 41.9226862843)  \n",
      "7917842  POINT (-87.6327464887 41.8809944707)  \n",
      "\n",
      "[1715915 rows x 15 columns]\n"
     ]
    }
   ],
   "source": [
    "df['Trip Start Timestamp'] = pd.to_datetime(df['Trip Start Timestamp'], errors='coerce')\n",
    "df['Trip End Timestamp'] = pd.to_datetime(df['Trip End Timestamp'], errors='coerce')\n",
    "\n",
    "#because Times are being rounded, checking for rows with same start and end time\n",
    "same_time_count = df[df['Trip Start Timestamp'] == df['Trip End Timestamp']]\n",
    "print(same_time_count)"
   ]
  },
  {
   "cell_type": "code",
   "execution_count": 54,
   "metadata": {},
   "outputs": [
    {
     "name": "stdout",
     "output_type": "stream",
     "text": [
      "6730341\n",
      "6647737\n"
     ]
    }
   ],
   "source": [
    "#checking for trips where the trip length is 0 and the trip distance is 0\n",
    "print(len(df))\n",
    "df = df[~((df[\"Trip Seconds\"] == 0) & (df[\"Trip Miles\"] == 0))]\n",
    "print(len(df))\n"
   ]
  },
  {
   "cell_type": "code",
   "execution_count": 55,
   "metadata": {},
   "outputs": [
    {
     "name": "stdout",
     "output_type": "stream",
     "text": [
      "572\n"
     ]
    }
   ],
   "source": [
    "print(df['Pickup Census Tract'].nunique())"
   ]
  },
  {
   "cell_type": "code",
   "execution_count": 56,
   "metadata": {},
   "outputs": [],
   "source": [
    "df.to_csv('testing_no_null.csv', index=False)"
   ]
  },
  {
   "cell_type": "code",
   "execution_count": 57,
   "metadata": {},
   "outputs": [],
   "source": [
    "#import geopandas as gpd\n",
    "\n",
    "\n",
    "\n",
    "#tracts = gpd.read_file('tl_2024_17_tract/tl_2024_17_tract.shp')\n",
    "\n",
    "#print(tracts)\n",
    "\n",
    "\n",
    "\n",
    "#all_tracts = pd.unique(df[['Pickup Census Tract', 'Dropoff Census Tract']].values.ravel())\n",
    "\n",
    "#filtered_tracts = tracts[tracts['GEOID'].isin(all_tracts)]\n",
    "#print(filtered_tracts.shape)\n",
    "#filtered_tracts.to_file('chicago_census_tracts.geojson', driver='GEOJSon')\n",
    "\n",
    "\n",
    "\n",
    "\n",
    "\n"
   ]
  }
 ],
 "metadata": {
  "kernelspec": {
   "display_name": "Python 3",
   "language": "python",
   "name": "python3"
  },
  "language_info": {
   "codemirror_mode": {
    "name": "ipython",
    "version": 3
   },
   "file_extension": ".py",
   "mimetype": "text/x-python",
   "name": "python",
   "nbconvert_exporter": "python",
   "pygments_lexer": "ipython3",
   "version": "3.11.2"
  }
 },
 "nbformat": 4,
 "nbformat_minor": 2
}
