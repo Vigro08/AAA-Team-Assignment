{
 "cells": [
  {
   "cell_type": "code",
   "execution_count": 21,
   "metadata": {},
   "outputs": [
    {
     "name": "stdout",
     "output_type": "stream",
     "text": [
      "                                    Trip ID   \n",
      "0  0000184e7cd53cee95af32eba49c44e4d20adcd8  \\\n",
      "1  000072ee076c9038868e239ca54185eb43959db0   \n",
      "2  000074019d598c2b1d6e77fbae79e40b0461a2fc   \n",
      "3  00007572c5f92e2ff067e6f838a5ad74e83665d3   \n",
      "4  00007c3e7546e2c7d15168586943a9c22c3856cf   \n",
      "\n",
      "                                             Taxi ID    Trip Start Timestamp   \n",
      "0  f538e6b729d1aaad4230e9dcd9dc2fd9a168826ddadbd6...  01/19/2024 05:00:00 PM  \\\n",
      "1  e51e2c30caec952b40b8329a68b498e18ce8a1f40fa75c...  01/28/2024 02:30:00 PM   \n",
      "2  aeb280ef3be3e27e081eb6e76027615b0d40925b84d3eb...  01/05/2024 09:00:00 AM   \n",
      "3  7d21c2ca227db8f27dda96612bfe5520ab408fa9a462c8...  01/22/2024 08:45:00 AM   \n",
      "4  8ef1056519939d511d24008e394f83e925d2539d668a00...  01/18/2024 07:15:00 PM   \n",
      "\n",
      "       Trip End Timestamp  Trip Seconds  Trip Miles  Pickup Census Tract   \n",
      "0  01/19/2024 06:00:00 PM        4051.0       17.12         1.703198e+10  \\\n",
      "1  01/28/2024 03:00:00 PM        1749.0       12.70                  NaN   \n",
      "2  01/05/2024 09:00:00 AM         517.0        3.39                  NaN   \n",
      "3  01/22/2024 09:30:00 AM        2050.0       15.06                  NaN   \n",
      "4  01/18/2024 07:30:00 PM        1004.0        1.18         1.703184e+10   \n",
      "\n",
      "   Dropoff Census Tract  Pickup Community Area  Dropoff Community Area  ...   \n",
      "0          1.703132e+10                   76.0                    32.0  ...  \\\n",
      "1                   NaN                    6.0                     NaN  ...   \n",
      "2                   NaN                    6.0                     8.0  ...   \n",
      "3                   NaN                   76.0                     NaN  ...   \n",
      "4          1.703184e+10                   32.0                    32.0  ...   \n",
      "\n",
      "   Extras  Trip Total  Payment Type                       Company   \n",
      "0     4.0       60.00   Credit Card                     Flash Cab  \\\n",
      "1     0.0       33.75          Cash                     Flash Cab   \n",
      "2     1.0       14.69        Mobile  Taxicab Insurance Agency Llc   \n",
      "3     5.5       56.56   Credit Card                    Globe Taxi   \n",
      "4     0.0       19.66        Mobile                   5 Star Taxi   \n",
      "\n",
      "   Pickup Centroid Latitude Pickup Centroid Longitude   \n",
      "0                 41.979071                -87.903040  \\\n",
      "1                 41.944227                -87.655998   \n",
      "2                 41.944227                -87.655998   \n",
      "3                 41.980264                -87.913625   \n",
      "4                 41.880994                -87.632746   \n",
      "\n",
      "               Pickup Centroid Location  Dropoff Centroid Latitude   \n",
      "0  POINT (-87.9030396611 41.9790708201)                  41.884987  \\\n",
      "1  POINT (-87.6559981815 41.9442266014)                        NaN   \n",
      "2  POINT (-87.6559981815 41.9442266014)                  41.899602   \n",
      "3   POINT (-87.913624596 41.9802643146)                        NaN   \n",
      "4  POINT (-87.6327464887 41.8809944707)                  41.880994   \n",
      "\n",
      "   Dropoff Centroid Longitude            Dropoff Centroid  Location  \n",
      "0                  -87.620993  POINT (-87.6209929134 41.8849871918)  \n",
      "1                         NaN                                   NaN  \n",
      "2                  -87.633308   POINT (-87.6333080367 41.899602111)  \n",
      "3                         NaN                                   NaN  \n",
      "4                  -87.632746  POINT (-87.6327464887 41.8809944707)  \n",
      "\n",
      "[5 rows x 23 columns]\n"
     ]
    }
   ],
   "source": [
    "import pandas as pd \n",
    "df = pd.read_csv('Taxi_Trips__2024-__20250505.csv')\n",
    "\n",
    "print(df.head())"
   ]
  },
  {
   "cell_type": "code",
   "execution_count": 22,
   "metadata": {},
   "outputs": [
    {
     "name": "stdout",
     "output_type": "stream",
     "text": [
      "0\n"
     ]
    }
   ],
   "source": [
    "#check for duplicate rows\n",
    "print(df['Trip ID'].duplicated().sum())\n",
    "#directly discard not needed columns\n",
    "df = df.drop(columns=['Trip ID', 'Fare', 'Tips', 'Tolls', 'Extras', 'Trip Total', 'Payment Type', 'Company'])"
   ]
  },
  {
   "cell_type": "code",
   "execution_count": 23,
   "metadata": {},
   "outputs": [
    {
     "name": "stdout",
     "output_type": "stream",
     "text": [
      "Taxi ID                             3\n",
      "Trip Start Timestamp                0\n",
      "Trip End Timestamp                 66\n",
      "Trip Seconds                     1541\n",
      "Trip Miles                         69\n",
      "Pickup Census Tract           4524944\n",
      "Dropoff Census Tract          4636162\n",
      "Pickup Community Area          226777\n",
      "Dropoff Community Area         742953\n",
      "Pickup Centroid Latitude       222468\n",
      "Pickup Centroid Longitude      222468\n",
      "Pickup Centroid Location       222468\n",
      "Dropoff Centroid Latitude      697653\n",
      "Dropoff Centroid Longitude     697653\n",
      "Dropoff Centroid  Location     697653\n",
      "dtype: int64\n"
     ]
    }
   ],
   "source": [
    "print(df.isnull().sum())"
   ]
  },
  {
   "cell_type": "code",
   "execution_count": 24,
   "metadata": {},
   "outputs": [
    {
     "name": "stdout",
     "output_type": "stream",
     "text": [
      "Taxi ID                       0\n",
      "Trip Start Timestamp          0\n",
      "Trip End Timestamp            0\n",
      "Trip Seconds                  0\n",
      "Trip Miles                    0\n",
      "Pickup Census Tract           0\n",
      "Dropoff Census Tract          0\n",
      "Pickup Community Area         0\n",
      "Dropoff Community Area        0\n",
      "Pickup Centroid Latitude      0\n",
      "Pickup Centroid Longitude     0\n",
      "Pickup Centroid Location      0\n",
      "Dropoff Centroid Latitude     0\n",
      "Dropoff Centroid Longitude    0\n",
      "Dropoff Centroid  Location    0\n",
      "dtype: int64\n"
     ]
    }
   ],
   "source": [
    "df = df.dropna(subset=['Taxi ID', 'Trip End Timestamp', 'Trip Seconds', 'Trip Miles', 'Pickup Census Tract', 'Dropoff Census Tract', 'Pickup Community Area', 'Dropoff Community Area', 'Dropoff Census Tract', 'Pickup Centroid Latitude', 'Pickup Centroid Longitude', 'Pickup Centroid Location', 'Dropoff Centroid Latitude', 'Dropoff Centroid Longitude', 'Dropoff Centroid  Location'])\n",
    "print(df.isnull().sum())"
   ]
  },
  {
   "cell_type": "code",
   "execution_count": 25,
   "metadata": {},
   "outputs": [
    {
     "name": "stdout",
     "output_type": "stream",
     "text": [
      "Taxi ID                        object\n",
      "Trip Start Timestamp           object\n",
      "Trip End Timestamp             object\n",
      "Trip Seconds                  float64\n",
      "Trip Miles                    float64\n",
      "Pickup Census Tract           float64\n",
      "Dropoff Census Tract          float64\n",
      "Pickup Community Area         float64\n",
      "Dropoff Community Area        float64\n",
      "Pickup Centroid Latitude      float64\n",
      "Pickup Centroid Longitude     float64\n",
      "Pickup Centroid Location       object\n",
      "Dropoff Centroid Latitude     float64\n",
      "Dropoff Centroid Longitude    float64\n",
      "Dropoff Centroid  Location     object\n",
      "dtype: object\n"
     ]
    }
   ],
   "source": [
    "print(df.dtypes)"
   ]
  },
  {
   "cell_type": "code",
   "execution_count": 26,
   "metadata": {},
   "outputs": [
    {
     "name": "stdout",
     "output_type": "stream",
     "text": [
      "Trip Seconds: True\n",
      "Trip Miles: False\n",
      "Pickup Census Tract: True\n",
      "Dropoff Census Tract: True\n",
      "Pickup Community Area: True\n",
      "Dropoff Community Area: True\n",
      "Pickup Centroid Latitude: False\n",
      "Pickup Centroid Longitude: False\n",
      "Dropoff Centroid Latitude: False\n",
      "Dropoff Centroid Longitude: False\n"
     ]
    }
   ],
   "source": [
    "# Trip Seconds\n",
    "df_1 = df['Trip Seconds'].dropna()\n",
    "print(\"Trip Seconds:\", (df_1 % 1 == 0).all())\n",
    "\n",
    "# Trip Miles\n",
    "df_2 = df['Trip Miles'].dropna()\n",
    "print(\"Trip Miles:\", (df_2 % 1 == 0).all())\n",
    "\n",
    "# Pickup Census Tract\n",
    "df_3 = df['Pickup Census Tract'].dropna()\n",
    "print(\"Pickup Census Tract:\", (df_3 % 1 == 0).all())\n",
    "\n",
    "# Dropoff Census Tract\n",
    "df_4 = df['Dropoff Census Tract'].dropna()\n",
    "print(\"Dropoff Census Tract:\", (df_4 % 1 == 0).all())\n",
    "\n",
    "# Pickup Community Area\n",
    "df_5 = df['Pickup Community Area'].dropna()\n",
    "print(\"Pickup Community Area:\", (df_5 % 1 == 0).all())\n",
    "\n",
    "# Dropoff Community Area\n",
    "df_6 = df['Dropoff Community Area'].dropna()\n",
    "print(\"Dropoff Community Area:\", (df_6 % 1 == 0).all())\n",
    "\n",
    "# Pickup Centroid Latitude\n",
    "df_7 = df['Pickup Centroid Latitude'].dropna()\n",
    "print(\"Pickup Centroid Latitude:\", (df_7 % 1 == 0).all())\n",
    "\n",
    "# Pickup Centroid Longitude\n",
    "df_8 = df['Pickup Centroid Longitude'].dropna()\n",
    "print(\"Pickup Centroid Longitude:\", (df_8 % 1 == 0).all())\n",
    "\n",
    "# Dropoff Centroid Latitude\n",
    "df_9 = df['Dropoff Centroid Latitude'].dropna()\n",
    "print(\"Dropoff Centroid Latitude:\", (df_9 % 1 == 0).all())\n",
    "\n",
    "# Dropoff Centroid Longitude\n",
    "df_10 = df['Dropoff Centroid Longitude'].dropna()\n",
    "print(\"Dropoff Centroid Longitude:\", (df_10 % 1 == 0).all())"
   ]
  },
  {
   "cell_type": "code",
   "execution_count": 27,
   "metadata": {},
   "outputs": [
    {
     "name": "stdout",
     "output_type": "stream",
     "text": [
      "Taxi ID                        object\n",
      "Trip Start Timestamp           object\n",
      "Trip End Timestamp             object\n",
      "Trip Seconds                    int32\n",
      "Trip Miles                    float64\n",
      "Pickup Census Tract           float64\n",
      "Dropoff Census Tract          float64\n",
      "Pickup Community Area           int64\n",
      "Dropoff Community Area          int64\n",
      "Pickup Centroid Latitude      float64\n",
      "Pickup Centroid Longitude     float64\n",
      "Pickup Centroid Location       object\n",
      "Dropoff Centroid Latitude     float64\n",
      "Dropoff Centroid Longitude    float64\n",
      "Dropoff Centroid  Location     object\n",
      "dtype: object\n"
     ]
    }
   ],
   "source": [
    "df['Trip Seconds'] = df['Trip Seconds'].fillna(-1).astype('int32')\n",
    "df['Pickup Community Area'] = df['Pickup Community Area'].fillna(0).astype('int64')\n",
    "df['Dropoff Community Area'] = df['Dropoff Community Area'].fillna(0).astype('int64')\n",
    "print(df.dtypes)"
   ]
  },
  {
   "cell_type": "code",
   "execution_count": 28,
   "metadata": {},
   "outputs": [
    {
     "name": "stderr",
     "output_type": "stream",
     "text": [
      "C:\\Users\\Besitzer\\AppData\\Local\\Temp\\ipykernel_25760\\3409860364.py:1: UserWarning: Could not infer format, so each element will be parsed individually, falling back to `dateutil`. To ensure parsing is consistent and as-expected, please specify a format.\n",
      "  df['Trip Start Timestamp'] = pd.to_datetime(df['Trip Start Timestamp'], errors='coerce')\n",
      "C:\\Users\\Besitzer\\AppData\\Local\\Temp\\ipykernel_25760\\3409860364.py:2: UserWarning: Could not infer format, so each element will be parsed individually, falling back to `dateutil`. To ensure parsing is consistent and as-expected, please specify a format.\n",
      "  df['Trip End Timestamp'] = pd.to_datetime(df['Trip End Timestamp'], errors='coerce')\n"
     ]
    },
    {
     "name": "stdout",
     "output_type": "stream",
     "text": [
      "                                                   Taxi ID   \n",
      "12       8307cf9433f0293eee99c6944aeab484521d9cd9b1fce5...  \\\n",
      "37       2780ead18beaa862cc67315ddabd9d1acaadcd6da82eba...   \n",
      "47       e637e1afe0dab0e2d04c635335602caf1045d43e3741c2...   \n",
      "50       9b6e04862004b0ef5fc39fc50e0c027496b142cde64251...   \n",
      "51       6c6cc4c518e70492231337ec2a17326e405aa40ad33ee5...   \n",
      "...                                                    ...   \n",
      "7917824  008dda45db57cb6daa679a86ce8c8149ddc05446d545b1...   \n",
      "7917826  692320c13d5f7819864fb57797a53cd467452176b95411...   \n",
      "7917829  d511072131b602026bdb9faa5491d15c3af8d62dc00659...   \n",
      "7917833  9475d35df519612aec86dbbfcb872633159f538fe7d90a...   \n",
      "7917842  8cba51d644d2a96d874d93a5b0eb9cf26512383c2fdc5d...   \n",
      "\n",
      "        Trip Start Timestamp  Trip End Timestamp  Trip Seconds  Trip Miles   \n",
      "12       2024-01-27 15:30:00 2024-01-27 15:30:00            68        0.00  \\\n",
      "37       2024-01-17 08:30:00 2024-01-17 08:30:00           520        1.03   \n",
      "47       2024-01-10 09:30:00 2024-01-10 09:30:00           180        0.00   \n",
      "50       2024-01-12 20:45:00 2024-01-12 20:45:00           182        0.42   \n",
      "51       2024-05-24 20:30:00 2024-05-24 20:30:00           660        1.10   \n",
      "...                      ...                 ...           ...         ...   \n",
      "7917824  2025-02-27 07:00:00 2025-02-27 07:00:00           195        0.53   \n",
      "7917826  2025-02-27 20:00:00 2025-02-27 20:00:00           474        1.51   \n",
      "7917829  2025-02-27 23:15:00 2025-02-27 23:15:00             0        0.00   \n",
      "7917833  2025-02-27 11:45:00 2025-02-27 11:45:00             3        0.00   \n",
      "7917842  2025-02-27 07:00:00 2025-02-27 07:00:00           294        0.53   \n",
      "\n",
      "         Pickup Census Tract  Dropoff Census Tract  Pickup Community Area   \n",
      "12              1.703198e+10          1.703198e+10                     76  \\\n",
      "37              1.703108e+10          1.703108e+10                      8   \n",
      "47              1.703184e+10          1.703184e+10                     32   \n",
      "50              1.703132e+10          1.703184e+10                     32   \n",
      "51              1.703108e+10          1.703108e+10                      8   \n",
      "...                      ...                   ...                    ...   \n",
      "7917824         1.703128e+10          1.703184e+10                     28   \n",
      "7917826         1.703184e+10          1.703108e+10                     32   \n",
      "7917829         1.703108e+10          1.703108e+10                      8   \n",
      "7917833         1.703108e+10          1.703108e+10                      8   \n",
      "7917842         1.703128e+10          1.703184e+10                     28   \n",
      "\n",
      "         Dropoff Community Area  Pickup Centroid Latitude   \n",
      "12                           76                 41.979071  \\\n",
      "37                            8                 41.893216   \n",
      "47                           32                 41.880994   \n",
      "50                           32                 41.884987   \n",
      "51                            8                 41.890922   \n",
      "...                         ...                       ...   \n",
      "7917824                      32                 41.879255   \n",
      "7917826                       8                 41.880994   \n",
      "7917829                       8                 41.892042   \n",
      "7917833                       8                 41.895033   \n",
      "7917842                      32                 41.885300   \n",
      "\n",
      "         Pickup Centroid Longitude              Pickup Centroid Location   \n",
      "12                      -87.903040  POINT (-87.9030396611 41.9790708201)  \\\n",
      "37                      -87.637844  POINT (-87.6378442095 41.8932163595)   \n",
      "47                      -87.632746  POINT (-87.6327464887 41.8809944707)   \n",
      "50                      -87.620993  POINT (-87.6209929134 41.8849871918)   \n",
      "51                      -87.618868  POINT (-87.6188683546 41.8909220259)   \n",
      "...                            ...                                   ...   \n",
      "7917824                 -87.642649   POINT (-87.642648998 41.8792550844)   \n",
      "7917826                 -87.632746  POINT (-87.6327464887 41.8809944707)   \n",
      "7917829                 -87.631864  POINT (-87.6318639497 41.8920421365)   \n",
      "7917833                 -87.619711  POINT (-87.6197106717 41.8950334495)   \n",
      "7917842                 -87.642808  POINT (-87.6428084655 41.8853000224)   \n",
      "\n",
      "         Dropoff Centroid Latitude  Dropoff Centroid Longitude   \n",
      "12                       41.979071                  -87.903040  \\\n",
      "37                       41.895033                  -87.619711   \n",
      "47                       41.880994                  -87.632746   \n",
      "50                       41.880994                  -87.632746   \n",
      "51                       41.892042                  -87.631864   \n",
      "...                            ...                         ...   \n",
      "7917824                  41.880994                  -87.632746   \n",
      "7917826                  41.905858                  -87.630865   \n",
      "7917829                  41.892042                  -87.631864   \n",
      "7917833                  41.895033                  -87.619711   \n",
      "7917842                  41.880994                  -87.632746   \n",
      "\n",
      "                   Dropoff Centroid  Location  \n",
      "12       POINT (-87.9030396611 41.9790708201)  \n",
      "37       POINT (-87.6197106717 41.8950334495)  \n",
      "47       POINT (-87.6327464887 41.8809944707)  \n",
      "50       POINT (-87.6327464887 41.8809944707)  \n",
      "51       POINT (-87.6318639497 41.8920421365)  \n",
      "...                                       ...  \n",
      "7917824  POINT (-87.6327464887 41.8809944707)  \n",
      "7917826  POINT (-87.6308650266 41.9058577688)  \n",
      "7917829  POINT (-87.6318639497 41.8920421365)  \n",
      "7917833  POINT (-87.6197106717 41.8950334495)  \n",
      "7917842  POINT (-87.6327464887 41.8809944707)  \n",
      "\n",
      "[1052684 rows x 15 columns]\n"
     ]
    }
   ],
   "source": [
    "df['Trip Start Timestamp'] = pd.to_datetime(df['Trip Start Timestamp'], errors='coerce')\n",
    "df['Trip End Timestamp'] = pd.to_datetime(df['Trip End Timestamp'], errors='coerce')\n",
    "\n",
    "#because Times are being rounded, checking for rows with same start and end time\n",
    "same_time_count = df[df['Trip Start Timestamp'] == df['Trip End Timestamp']]\n",
    "print(same_time_count)"
   ]
  },
  {
   "cell_type": "code",
   "execution_count": 29,
   "metadata": {},
   "outputs": [],
   "source": [
    "##todo\n",
    "#check if trip seconds and trip stand + end always make sense"
   ]
  },
  {
   "cell_type": "code",
   "execution_count": 30,
   "metadata": {},
   "outputs": [
    {
     "name": "stdout",
     "output_type": "stream",
     "text": [
      "                                                   Taxi ID   \n",
      "131      a9263292f54a406cd0fb2bac808b9aaca91f770ad5e0fd...  \\\n",
      "147      195c56dd09fe7cf2813ca4dacaa25f56fe50cf5f6c74eb...   \n",
      "350      63081d550846f1e0c56209bb972eb0fe5b92f5b8c86a13...   \n",
      "609      dd38b7cebd5414ae2b17595c68048ff8745c5147487c6c...   \n",
      "741      cff368b7deb69cd7eb7fb29b1e1cc0a0f03ff0013533a4...   \n",
      "...                                                    ...   \n",
      "7917557  a4b7fac6c80107336cb12a2a6078f302c8898e5ee26c29...   \n",
      "7917574  3d77b9fc21a6484a88ca7f79552d5ea5e712563dfa3051...   \n",
      "7917684  6e40306a3a76d2e41f2530cc314ecfbd2520aae13202d7...   \n",
      "7917687  38f6145c9a2b848dc1baa16fd91087e606b12bcb8757a9...   \n",
      "7917829  d511072131b602026bdb9faa5491d15c3af8d62dc00659...   \n",
      "\n",
      "        Trip Start Timestamp  Trip End Timestamp  Trip Seconds  Trip Miles   \n",
      "131      2024-01-08 14:00:00 2024-01-08 14:00:00             0         0.0  \\\n",
      "147      2024-01-16 19:30:00 2024-01-16 19:30:00             0         0.0   \n",
      "350      2024-01-09 10:30:00 2024-01-09 10:30:00             0         0.0   \n",
      "609      2024-01-10 09:30:00 2024-01-10 09:30:00             0         0.0   \n",
      "741      2024-01-27 17:45:00 2024-01-27 17:45:00             0         0.0   \n",
      "...                      ...                 ...           ...         ...   \n",
      "7917557  2025-03-26 09:45:00 2025-03-26 09:45:00             0         0.0   \n",
      "7917574  2025-03-04 14:15:00 2025-03-04 14:15:00             0         0.0   \n",
      "7917684  2025-03-20 14:15:00 2025-03-20 14:15:00             0         0.0   \n",
      "7917687  2025-03-29 14:15:00 2025-03-29 14:15:00             0         0.0   \n",
      "7917829  2025-02-27 23:15:00 2025-02-27 23:15:00             0         0.0   \n",
      "\n",
      "         Pickup Census Tract  Dropoff Census Tract  Pickup Community Area   \n",
      "131             1.703184e+10          1.703184e+10                     28  \\\n",
      "147             1.703198e+10          1.703198e+10                     76   \n",
      "350             1.703184e+10          1.703184e+10                     59   \n",
      "609             1.703108e+10          1.703108e+10                      8   \n",
      "741             1.703198e+10          1.703198e+10                     76   \n",
      "...                      ...                   ...                    ...   \n",
      "7917557         1.703184e+10          1.703184e+10                     32   \n",
      "7917574         1.703141e+10          1.703141e+10                     41   \n",
      "7917684         1.703132e+10          1.703132e+10                     32   \n",
      "7917687         1.703108e+10          1.703108e+10                      8   \n",
      "7917829         1.703108e+10          1.703108e+10                      8   \n",
      "\n",
      "         Dropoff Community Area  Pickup Centroid Latitude   \n",
      "131                          28                 41.870415  \\\n",
      "147                          76                 41.979071   \n",
      "350                          59                 41.833518   \n",
      "609                           8                 41.895033   \n",
      "741                          76                 41.979071   \n",
      "...                         ...                       ...   \n",
      "7917557                      32                 41.880994   \n",
      "7917574                      41                 41.790506   \n",
      "7917684                      32                 41.884987   \n",
      "7917687                       8                 41.890922   \n",
      "7917829                       8                 41.892042   \n",
      "\n",
      "         Pickup Centroid Longitude              Pickup Centroid Location   \n",
      "131                     -87.675086  POINT (-87.6750856208 41.8704150003)  \\\n",
      "147                     -87.903040  POINT (-87.9030396611 41.9790708201)   \n",
      "350                     -87.681356  POINT (-87.6813558293 41.8335178865)   \n",
      "609                     -87.619711  POINT (-87.6197106717 41.8950334495)   \n",
      "741                     -87.903040  POINT (-87.9030396611 41.9790708201)   \n",
      "...                            ...                                   ...   \n",
      "7917557                 -87.632746  POINT (-87.6327464887 41.8809944707)   \n",
      "7917574                 -87.583144  POINT (-87.5831437169 41.7905062613)   \n",
      "7917684                 -87.620993  POINT (-87.6209929134 41.8849871918)   \n",
      "7917687                 -87.618868  POINT (-87.6188683546 41.8909220259)   \n",
      "7917829                 -87.631864  POINT (-87.6318639497 41.8920421365)   \n",
      "\n",
      "         Dropoff Centroid Latitude  Dropoff Centroid Longitude   \n",
      "131                      41.870415                  -87.675086  \\\n",
      "147                      41.979071                  -87.903040   \n",
      "350                      41.833518                  -87.681356   \n",
      "609                      41.895033                  -87.619711   \n",
      "741                      41.979071                  -87.903040   \n",
      "...                            ...                         ...   \n",
      "7917557                  41.880994                  -87.632746   \n",
      "7917574                  41.790506                  -87.583144   \n",
      "7917684                  41.884987                  -87.620993   \n",
      "7917687                  41.890922                  -87.618868   \n",
      "7917829                  41.892042                  -87.631864   \n",
      "\n",
      "                   Dropoff Centroid  Location  \n",
      "131      POINT (-87.6750856208 41.8704150003)  \n",
      "147      POINT (-87.9030396611 41.9790708201)  \n",
      "350      POINT (-87.6813558293 41.8335178865)  \n",
      "609      POINT (-87.6197106717 41.8950334495)  \n",
      "741      POINT (-87.9030396611 41.9790708201)  \n",
      "...                                       ...  \n",
      "7917557  POINT (-87.6327464887 41.8809944707)  \n",
      "7917574  POINT (-87.5831437169 41.7905062613)  \n",
      "7917684  POINT (-87.6209929134 41.8849871918)  \n",
      "7917687  POINT (-87.6188683546 41.8909220259)  \n",
      "7917829  POINT (-87.6318639497 41.8920421365)  \n",
      "\n",
      "[49372 rows x 15 columns]\n"
     ]
    }
   ],
   "source": [
    "#checking for trips where the trip length is 0 to discard them\n",
    "zero_seconds = df[df['Trip Seconds'] == 0]\n",
    "print(zero_seconds)"
   ]
  },
  {
   "cell_type": "code",
   "execution_count": 31,
   "metadata": {},
   "outputs": [
    {
     "name": "stdout",
     "output_type": "stream",
     "text": [
      "Empty DataFrame\n",
      "Columns: [Taxi ID, Trip Start Timestamp, Trip End Timestamp, Trip Seconds, Trip Miles, Pickup Census Tract, Dropoff Census Tract, Pickup Community Area, Dropoff Community Area, Pickup Centroid Latitude, Pickup Centroid Longitude, Pickup Centroid Location, Dropoff Centroid Latitude, Dropoff Centroid Longitude, Dropoff Centroid  Location]\n",
      "Index: []\n"
     ]
    }
   ],
   "source": [
    "df = df[df['Trip Seconds'] != 0]\n",
    "zero_seconds = df[df['Trip Seconds'] == 0]\n",
    "print(zero_seconds)"
   ]
  },
  {
   "cell_type": "code",
   "execution_count": 32,
   "metadata": {},
   "outputs": [
    {
     "name": "stdout",
     "output_type": "stream",
     "text": [
      "510\n"
     ]
    }
   ],
   "source": [
    "print(df['Pickup Census Tract'].nunique())"
   ]
  },
  {
   "cell_type": "code",
   "execution_count": 34,
   "metadata": {},
   "outputs": [],
   "source": [
    "#import geopandas as gpd\n",
    "\n",
    "\n",
    "\n",
    "#tracts = gpd.read_file('tl_2024_17_tract/tl_2024_17_tract.shp')\n",
    "\n",
    "#print(tracts)\n",
    "\n",
    "\n",
    "\n",
    "#all_tracts = pd.unique(df[['Pickup Census Tract', 'Dropoff Census Tract']].values.ravel())\n",
    "\n",
    "#filtered_tracts = tracts[tracts['GEOID'].isin(all_tracts)]\n",
    "#print(filtered_tracts.shape)\n",
    "#filtered_tracts.to_file('chicago_census_tracts.geojson', driver='GEOJSon')\n",
    "\n",
    "\n",
    "\n",
    "\n",
    "\n"
   ]
  }
 ],
 "metadata": {
  "kernelspec": {
   "display_name": "Python 3",
   "language": "python",
   "name": "python3"
  },
  "language_info": {
   "codemirror_mode": {
    "name": "ipython",
    "version": 3
   },
   "file_extension": ".py",
   "mimetype": "text/x-python",
   "name": "python",
   "nbconvert_exporter": "python",
   "pygments_lexer": "ipython3",
   "version": "3.11.2"
  }
 },
 "nbformat": 4,
 "nbformat_minor": 2
}
